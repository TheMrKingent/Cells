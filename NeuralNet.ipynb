{
 "cells": [
  {
   "cell_type": "markdown",
   "metadata": {},
   "source": [
    "### Conv NN on raw data\n",
    "\n",
    "Unpreprocessed 3-channels images. Images taken from source."
   ]
  },
  {
   "cell_type": "code",
   "execution_count": 1,
   "metadata": {},
   "outputs": [],
   "source": [
    "import tensorflow as tf\n",
    "from tensorflow.keras.utils import image_dataset_from_directory\n",
    "\n",
    "path = 'C:/ARCHIVIO/2 - Magistrale/Semestre 3/Advanced statistical modelling fot Big Data/Progetto/Cells/data'"
   ]
  },
  {
   "cell_type": "code",
   "execution_count": 2,
   "metadata": {},
   "outputs": [
    {
     "name": "stdout",
     "output_type": "stream",
     "text": [
      "Found 27558 files belonging to 2 classes.\n",
      "Using 19291 files for training.\n",
      "Found 27558 files belonging to 2 classes.\n",
      "Using 8267 files for validation.\n"
     ]
    }
   ],
   "source": [
    "train = image_dataset_from_directory(\n",
    "    path, image_size=((32,32)), batch_size=32, validation_split=0.3, shuffle=True, seed=100, subset=\"training\")\n",
    "\n",
    "test = image_dataset_from_directory(\n",
    "    path, image_size=((32,32)), batch_size=32, validation_split=0.3, shuffle=True, seed=100, subset=\"validation\")"
   ]
  },
  {
   "cell_type": "code",
   "execution_count": 3,
   "metadata": {},
   "outputs": [],
   "source": [
    "model = tf.keras.Sequential([\n",
    "        tf.keras.layers.Input(shape=(32, 32, 3)),\n",
    "        tf.keras.layers.Conv2D(16, (3,3), padding='same', activation='relu'),\n",
    "        tf.keras.layers.MaxPool2D(2),\n",
    "        tf.keras.layers.Conv2D(4, (3,3), padding='same', activation='relu'),\n",
    "        tf.keras.layers.MaxPool2D(2),\n",
    "        tf.keras.layers.Flatten(),\n",
    "        tf.keras.layers.Dense(8, activation='relu'),\n",
    "        tf.keras.layers.Dense(1, activation='sigmoid'),\n",
    "        ])\n",
    "\n",
    "model.compile(optimizer=tf.keras.optimizers.Adam(),\n",
    "              loss=tf.keras.losses.BinaryCrossentropy(),\n",
    "              metrics=['accuracy'])"
   ]
  },
  {
   "cell_type": "code",
   "execution_count": 4,
   "metadata": {},
   "outputs": [
    {
     "name": "stdout",
     "output_type": "stream",
     "text": [
      "Epoch 1/15\n",
      "603/603 [==============================] - 14s 22ms/step - loss: 1.2786 - accuracy: 0.5538 - val_loss: 0.6843 - val_accuracy: 0.6019\n",
      "Epoch 2/15\n",
      "603/603 [==============================] - 7s 11ms/step - loss: 0.6561 - accuracy: 0.6193 - val_loss: 0.6577 - val_accuracy: 0.6040\n",
      "Epoch 3/15\n",
      "603/603 [==============================] - 7s 11ms/step - loss: 0.5815 - accuracy: 0.6928 - val_loss: 0.4982 - val_accuracy: 0.7570\n",
      "Epoch 4/15\n",
      "603/603 [==============================] - 7s 12ms/step - loss: 0.4499 - accuracy: 0.7912 - val_loss: 0.3652 - val_accuracy: 0.8426\n",
      "Epoch 5/15\n",
      "603/603 [==============================] - 7s 12ms/step - loss: 0.2927 - accuracy: 0.8796 - val_loss: 0.2462 - val_accuracy: 0.9124\n",
      "Epoch 6/15\n",
      "603/603 [==============================] - 7s 11ms/step - loss: 0.2121 - accuracy: 0.9216 - val_loss: 0.2077 - val_accuracy: 0.9267\n",
      "Epoch 7/15\n",
      "603/603 [==============================] - 7s 12ms/step - loss: 0.1834 - accuracy: 0.9358 - val_loss: 0.1952 - val_accuracy: 0.9340\n",
      "Epoch 8/15\n",
      "603/603 [==============================] - 7s 11ms/step - loss: 0.1706 - accuracy: 0.9427 - val_loss: 0.1880 - val_accuracy: 0.9401\n",
      "Epoch 9/15\n",
      "603/603 [==============================] - 7s 12ms/step - loss: 0.1628 - accuracy: 0.9442 - val_loss: 0.1750 - val_accuracy: 0.9431\n",
      "Epoch 10/15\n",
      "603/603 [==============================] - 7s 11ms/step - loss: 0.1576 - accuracy: 0.9468 - val_loss: 0.1660 - val_accuracy: 0.9486\n",
      "Epoch 11/15\n",
      "603/603 [==============================] - 7s 11ms/step - loss: 0.1512 - accuracy: 0.9495 - val_loss: 0.1695 - val_accuracy: 0.9442\n",
      "Epoch 12/15\n",
      "603/603 [==============================] - 7s 12ms/step - loss: 0.1484 - accuracy: 0.9494 - val_loss: 0.1687 - val_accuracy: 0.9438\n",
      "Epoch 13/15\n",
      "603/603 [==============================] - 7s 12ms/step - loss: 0.1446 - accuracy: 0.9522 - val_loss: 0.1648 - val_accuracy: 0.9464\n",
      "Epoch 14/15\n",
      "603/603 [==============================] - 7s 11ms/step - loss: 0.1421 - accuracy: 0.9526 - val_loss: 0.1630 - val_accuracy: 0.9474\n",
      "Epoch 15/15\n",
      "603/603 [==============================] - 7s 12ms/step - loss: 0.1404 - accuracy: 0.9525 - val_loss: 0.1628 - val_accuracy: 0.9482\n"
     ]
    }
   ],
   "source": [
    "history = model.fit(train, epochs=15, validation_data=test)"
   ]
  },
  {
   "cell_type": "code",
   "execution_count": 7,
   "metadata": {},
   "outputs": [
    {
     "name": "stdout",
     "output_type": "stream",
     "text": [
      "259/259 [==============================] - 1s 5ms/step - loss: 0.1628 - accuracy: 0.9482\n"
     ]
    },
    {
     "data": {
      "text/plain": [
       "[0.16277989745140076, 0.9482278823852539]"
      ]
     },
     "execution_count": 7,
     "metadata": {},
     "output_type": "execute_result"
    }
   ],
   "source": [
    "# Evaluate test set\n",
    "model.evaluate(test)"
   ]
  },
  {
   "cell_type": "markdown",
   "metadata": {},
   "source": [
    "***\n",
    "### Dens NN on pre-processed data\n",
    "\n",
    "Full pre-preprocessed matrix (no jittering)."
   ]
  },
  {
   "cell_type": "code",
   "execution_count": 52,
   "metadata": {},
   "outputs": [],
   "source": [
    "import numpy as np\n",
    "import pandas as pd\n",
    "from sklearn.model_selection import train_test_split\n",
    "\n",
    "path = 'C:/ARCHIVIO/2 - Magistrale/Semestre 3/Advanced statistical modelling fot Big Data/Progetto/Cells/dataset/dat_stain.csv'\n",
    "dat = pd.read_csv(path)\n",
    "\n",
    "train, test = train_test_split(dat, test_size=0.3)\n",
    "\n",
    "train_features = train.copy()\n",
    "train_labels = train.pop('label')\n",
    "\n",
    "\n",
    "test_features = test.copy()\n",
    "test_labels = test.pop('label')"
   ]
  },
  {
   "cell_type": "code",
   "execution_count": 107,
   "metadata": {},
   "outputs": [],
   "source": [
    "model = tf.keras.Sequential([\n",
    "        tf.keras.layers.Dense(64, activation='relu'),\n",
    "        tf.keras.layers.Dense(1, activation='sigmoid'),\n",
    "        ])\n",
    "\n",
    "model.compile(optimizer=tf.keras.optimizers.Adam(learning_rate=0.0000001),\n",
    "              loss=tf.keras.losses.BinaryCrossentropy(),\n",
    "              metrics=['accuracy'])"
   ]
  },
  {
   "cell_type": "code",
   "execution_count": 108,
   "metadata": {},
   "outputs": [
    {
     "name": "stdout",
     "output_type": "stream",
     "text": [
      "Epoch 1/100\n",
      "603/603 [==============================] - 1s 1ms/step - loss: 110.9029 - accuracy: 0.5017 - val_loss: 96.6934 - val_accuracy: 0.4960\n",
      "Epoch 2/100\n",
      "603/603 [==============================] - 1s 954us/step - loss: 79.8337 - accuracy: 0.5018 - val_loss: 65.0387 - val_accuracy: 0.4964\n",
      "Epoch 3/100\n",
      "603/603 [==============================] - 1s 941us/step - loss: 48.4948 - accuracy: 0.5029 - val_loss: 33.3337 - val_accuracy: 0.5015\n",
      "Epoch 4/100\n",
      "603/603 [==============================] - 1s 949us/step - loss: 18.3758 - accuracy: 0.5573 - val_loss: 6.9408 - val_accuracy: 0.6613\n",
      "Epoch 5/100\n",
      "603/603 [==============================] - 1s 958us/step - loss: 5.3724 - accuracy: 0.6324 - val_loss: 5.3582 - val_accuracy: 0.6993\n",
      "Epoch 6/100\n",
      "603/603 [==============================] - 1s 954us/step - loss: 5.1451 - accuracy: 0.6116 - val_loss: 5.1945 - val_accuracy: 0.7040\n",
      "Epoch 7/100\n",
      "603/603 [==============================] - 1s 947us/step - loss: 4.9501 - accuracy: 0.6609 - val_loss: 4.9389 - val_accuracy: 0.7107\n",
      "Epoch 8/100\n",
      "603/603 [==============================] - 1s 964us/step - loss: 4.7000 - accuracy: 0.6508 - val_loss: 4.7402 - val_accuracy: 0.7188\n",
      "Epoch 9/100\n",
      "603/603 [==============================] - 1s 975us/step - loss: 4.5163 - accuracy: 0.6939 - val_loss: 4.4306 - val_accuracy: 0.7276\n",
      "Epoch 10/100\n",
      "603/603 [==============================] - 1s 952us/step - loss: 4.2124 - accuracy: 0.7162 - val_loss: 4.2718 - val_accuracy: 0.7372\n",
      "Epoch 11/100\n",
      "603/603 [==============================] - 1s 965us/step - loss: 4.1687 - accuracy: 0.7251 - val_loss: 4.2438 - val_accuracy: 0.7344\n",
      "Epoch 12/100\n",
      "603/603 [==============================] - 1s 957us/step - loss: 4.1437 - accuracy: 0.7135 - val_loss: 4.2284 - val_accuracy: 0.7378\n",
      "Epoch 13/100\n",
      "603/603 [==============================] - 1s 955us/step - loss: 4.1249 - accuracy: 0.7273 - val_loss: 4.2086 - val_accuracy: 0.7332\n",
      "Epoch 14/100\n",
      "603/603 [==============================] - 1s 954us/step - loss: 4.1084 - accuracy: 0.7271 - val_loss: 4.1969 - val_accuracy: 0.7319\n",
      "Epoch 15/100\n",
      "603/603 [==============================] - 1s 970us/step - loss: 4.0944 - accuracy: 0.7112 - val_loss: 4.1808 - val_accuracy: 0.7367\n",
      "Epoch 16/100\n",
      "603/603 [==============================] - 1s 964us/step - loss: 4.0818 - accuracy: 0.7294 - val_loss: 4.1706 - val_accuracy: 0.7388\n",
      "Epoch 17/100\n",
      "603/603 [==============================] - 1s 968us/step - loss: 4.0708 - accuracy: 0.7353 - val_loss: 4.1567 - val_accuracy: 0.7362\n",
      "Epoch 18/100\n",
      "603/603 [==============================] - 1s 962us/step - loss: 4.0584 - accuracy: 0.7377 - val_loss: 4.1465 - val_accuracy: 0.7354\n",
      "Epoch 19/100\n",
      "603/603 [==============================] - 1s 955us/step - loss: 4.0448 - accuracy: 0.7315 - val_loss: 4.1339 - val_accuracy: 0.7379\n",
      "Epoch 20/100\n",
      "603/603 [==============================] - 1s 952us/step - loss: 4.0282 - accuracy: 0.7344 - val_loss: 4.1181 - val_accuracy: 0.7346\n",
      "Epoch 21/100\n",
      "603/603 [==============================] - 1s 939us/step - loss: 4.0040 - accuracy: 0.7126 - val_loss: 4.0894 - val_accuracy: 0.7404\n",
      "Epoch 22/100\n",
      "603/603 [==============================] - 1s 970us/step - loss: 3.9604 - accuracy: 0.7374 - val_loss: 4.0271 - val_accuracy: 0.7390\n",
      "Epoch 23/100\n",
      "603/603 [==============================] - 1s 942us/step - loss: 3.8624 - accuracy: 0.7438 - val_loss: 3.9089 - val_accuracy: 0.3293\n",
      "Epoch 24/100\n",
      "603/603 [==============================] - 1s 930us/step - loss: 3.7867 - accuracy: 0.7426 - val_loss: 3.8844 - val_accuracy: 0.7447\n",
      "Epoch 25/100\n",
      "603/603 [==============================] - 1s 944us/step - loss: 3.7820 - accuracy: 0.7502 - val_loss: 3.8761 - val_accuracy: 0.7450\n",
      "Epoch 26/100\n",
      "603/603 [==============================] - 1s 953us/step - loss: 3.7760 - accuracy: 0.7453 - val_loss: 3.8738 - val_accuracy: 0.7413\n",
      "Epoch 27/100\n",
      "603/603 [==============================] - 1s 960us/step - loss: 3.7693 - accuracy: 0.7381 - val_loss: 3.8620 - val_accuracy: 0.7424\n",
      "Epoch 28/100\n",
      "603/603 [==============================] - 1s 959us/step - loss: 3.7593 - accuracy: 0.7514 - val_loss: 3.8568 - val_accuracy: 0.7534\n",
      "Epoch 29/100\n",
      "603/603 [==============================] - 1s 977us/step - loss: 3.7457 - accuracy: 0.7444 - val_loss: 3.8290 - val_accuracy: 0.7467\n",
      "Epoch 30/100\n",
      "603/603 [==============================] - 1s 954us/step - loss: 3.7145 - accuracy: 0.7470 - val_loss: 3.7815 - val_accuracy: 0.7448\n",
      "Epoch 31/100\n",
      "603/603 [==============================] - 1s 949us/step - loss: 3.6242 - accuracy: 0.7517 - val_loss: 3.6276 - val_accuracy: 0.7571\n",
      "Epoch 32/100\n",
      "603/603 [==============================] - 1s 992us/step - loss: 3.5084 - accuracy: 0.7593 - val_loss: 3.5890 - val_accuracy: 0.7575\n",
      "Epoch 33/100\n",
      "603/603 [==============================] - 1s 954us/step - loss: 3.5030 - accuracy: 0.7662 - val_loss: 3.5821 - val_accuracy: 0.7569\n",
      "Epoch 34/100\n",
      "603/603 [==============================] - 1s 947us/step - loss: 3.4972 - accuracy: 0.7655 - val_loss: 3.5766 - val_accuracy: 0.7568\n",
      "Epoch 35/100\n",
      "603/603 [==============================] - 1s 959us/step - loss: 3.4903 - accuracy: 0.7659 - val_loss: 3.5688 - val_accuracy: 0.7575\n",
      "Epoch 36/100\n",
      "603/603 [==============================] - 1s 967us/step - loss: 3.4847 - accuracy: 0.7663 - val_loss: 3.5611 - val_accuracy: 0.7577\n",
      "Epoch 37/100\n",
      "603/603 [==============================] - 1s 945us/step - loss: 3.4765 - accuracy: 0.7671 - val_loss: 3.5521 - val_accuracy: 0.7570\n",
      "Epoch 38/100\n",
      "603/603 [==============================] - 1s 948us/step - loss: 3.4679 - accuracy: 0.7669 - val_loss: 3.5401 - val_accuracy: 0.7579\n",
      "Epoch 39/100\n",
      "603/603 [==============================] - 1s 957us/step - loss: 3.4559 - accuracy: 0.7673 - val_loss: 3.5245 - val_accuracy: 0.7593\n",
      "Epoch 40/100\n",
      "603/603 [==============================] - 1s 944us/step - loss: 3.4385 - accuracy: 0.7615 - val_loss: 3.5019 - val_accuracy: 0.7592\n",
      "Epoch 41/100\n",
      "603/603 [==============================] - 1s 952us/step - loss: 3.4108 - accuracy: 0.7685 - val_loss: 3.4614 - val_accuracy: 0.7615\n",
      "Epoch 42/100\n",
      "603/603 [==============================] - 1s 938us/step - loss: 3.3603 - accuracy: 0.7714 - val_loss: 3.3893 - val_accuracy: 0.7644\n",
      "Epoch 43/100\n",
      "603/603 [==============================] - 1s 958us/step - loss: 3.3149 - accuracy: 0.7725 - val_loss: 3.3794 - val_accuracy: 0.7648\n",
      "Epoch 44/100\n",
      "603/603 [==============================] - 1s 944us/step - loss: 3.3115 - accuracy: 0.7722 - val_loss: 3.3798 - val_accuracy: 0.7640\n",
      "Epoch 45/100\n",
      "603/603 [==============================] - 1s 969us/step - loss: 3.3082 - accuracy: 0.7723 - val_loss: 3.3724 - val_accuracy: 0.7650\n",
      "Epoch 46/100\n",
      "603/603 [==============================] - 1s 954us/step - loss: 3.3050 - accuracy: 0.7722 - val_loss: 3.3779 - val_accuracy: 0.7639\n",
      "Epoch 47/100\n",
      "603/603 [==============================] - 1s 967us/step - loss: 3.3026 - accuracy: 0.7725 - val_loss: 3.3659 - val_accuracy: 0.7657\n",
      "Epoch 48/100\n",
      "603/603 [==============================] - 1s 970us/step - loss: 3.2988 - accuracy: 0.7724 - val_loss: 3.3625 - val_accuracy: 0.7652\n",
      "Epoch 49/100\n",
      "603/603 [==============================] - 1s 969us/step - loss: 3.2947 - accuracy: 0.7724 - val_loss: 3.3622 - val_accuracy: 0.7656\n",
      "Epoch 50/100\n",
      "603/603 [==============================] - 1s 952us/step - loss: 3.2928 - accuracy: 0.7727 - val_loss: 3.3567 - val_accuracy: 0.7660\n",
      "Epoch 51/100\n",
      "603/603 [==============================] - 1s 964us/step - loss: 3.2890 - accuracy: 0.7724 - val_loss: 3.3531 - val_accuracy: 0.7660\n",
      "Epoch 52/100\n",
      "603/603 [==============================] - 1s 945us/step - loss: 3.2861 - accuracy: 0.7730 - val_loss: 3.3549 - val_accuracy: 0.7644\n",
      "Epoch 53/100\n",
      "603/603 [==============================] - 1s 945us/step - loss: 3.2822 - accuracy: 0.7736 - val_loss: 3.3481 - val_accuracy: 0.7667\n",
      "Epoch 54/100\n",
      "603/603 [==============================] - 1s 950us/step - loss: 3.2802 - accuracy: 0.7729 - val_loss: 3.3442 - val_accuracy: 0.7667\n",
      "Epoch 55/100\n",
      "603/603 [==============================] - 1s 950us/step - loss: 3.2764 - accuracy: 0.7738 - val_loss: 3.3485 - val_accuracy: 0.7661\n",
      "Epoch 56/100\n",
      "603/603 [==============================] - 1s 944us/step - loss: 3.2738 - accuracy: 0.7725 - val_loss: 3.3392 - val_accuracy: 0.7667\n",
      "Epoch 57/100\n",
      "603/603 [==============================] - 1s 950us/step - loss: 3.2697 - accuracy: 0.7736 - val_loss: 3.3353 - val_accuracy: 0.7669\n",
      "Epoch 58/100\n",
      "603/603 [==============================] - 1s 964us/step - loss: 3.2673 - accuracy: 0.7740 - val_loss: 3.3317 - val_accuracy: 0.7677\n",
      "Epoch 59/100\n",
      "603/603 [==============================] - 1s 945us/step - loss: 3.2646 - accuracy: 0.7732 - val_loss: 3.3294 - val_accuracy: 0.7674\n",
      "Epoch 60/100\n",
      "603/603 [==============================] - 1s 920us/step - loss: 3.2619 - accuracy: 0.7736 - val_loss: 3.3254 - val_accuracy: 0.7678\n",
      "Epoch 61/100\n",
      "603/603 [==============================] - 1s 935us/step - loss: 3.2576 - accuracy: 0.7741 - val_loss: 3.3245 - val_accuracy: 0.7661\n",
      "Epoch 62/100\n",
      "603/603 [==============================] - 1s 955us/step - loss: 3.2540 - accuracy: 0.7742 - val_loss: 3.3195 - val_accuracy: 0.7668\n",
      "Epoch 63/100\n",
      "603/603 [==============================] - 1s 940us/step - loss: 3.2511 - accuracy: 0.7742 - val_loss: 3.3160 - val_accuracy: 0.7671\n",
      "Epoch 64/100\n",
      "603/603 [==============================] - 1s 960us/step - loss: 3.2480 - accuracy: 0.7735 - val_loss: 3.3150 - val_accuracy: 0.7675\n",
      "Epoch 65/100\n",
      "603/603 [==============================] - 1s 949us/step - loss: 3.2455 - accuracy: 0.7742 - val_loss: 3.3120 - val_accuracy: 0.7667\n",
      "Epoch 66/100\n",
      "603/603 [==============================] - 1s 959us/step - loss: 3.2418 - accuracy: 0.7755 - val_loss: 3.3067 - val_accuracy: 0.7677\n",
      "Epoch 67/100\n",
      "603/603 [==============================] - 1s 967us/step - loss: 3.2397 - accuracy: 0.7744 - val_loss: 3.3081 - val_accuracy: 0.7679\n",
      "Epoch 68/100\n",
      "603/603 [==============================] - 1s 969us/step - loss: 3.2363 - accuracy: 0.7742 - val_loss: 3.3008 - val_accuracy: 0.7684\n",
      "Epoch 69/100\n",
      "603/603 [==============================] - 1s 944us/step - loss: 3.2324 - accuracy: 0.7741 - val_loss: 3.2976 - val_accuracy: 0.7678\n",
      "Epoch 70/100\n",
      "603/603 [==============================] - 1s 975us/step - loss: 3.2289 - accuracy: 0.7750 - val_loss: 3.3163 - val_accuracy: 0.7760\n",
      "Epoch 71/100\n",
      "603/603 [==============================] - 1s 965us/step - loss: 3.2269 - accuracy: 0.7742 - val_loss: 3.2951 - val_accuracy: 0.7685\n",
      "Epoch 72/100\n",
      "603/603 [==============================] - 1s 944us/step - loss: 3.2235 - accuracy: 0.7753 - val_loss: 3.2914 - val_accuracy: 0.7685\n",
      "Epoch 73/100\n",
      "603/603 [==============================] - 1s 952us/step - loss: 3.2206 - accuracy: 0.7751 - val_loss: 3.2879 - val_accuracy: 0.7689\n",
      "Epoch 74/100\n",
      "603/603 [==============================] - 1s 965us/step - loss: 3.2179 - accuracy: 0.7748 - val_loss: 3.2827 - val_accuracy: 0.7678\n",
      "Epoch 75/100\n",
      "603/603 [==============================] - 1s 949us/step - loss: 3.2145 - accuracy: 0.7749 - val_loss: 3.2799 - val_accuracy: 0.7690\n",
      "Epoch 76/100\n",
      "603/603 [==============================] - 1s 959us/step - loss: 3.2113 - accuracy: 0.7756 - val_loss: 3.2790 - val_accuracy: 0.7677\n",
      "Epoch 77/100\n",
      "603/603 [==============================] - 1s 947us/step - loss: 3.2079 - accuracy: 0.7756 - val_loss: 3.2733 - val_accuracy: 0.7690\n",
      "Epoch 78/100\n",
      "603/603 [==============================] - 1s 980us/step - loss: 3.2047 - accuracy: 0.7750 - val_loss: 3.2709 - val_accuracy: 0.7691\n",
      "Epoch 79/100\n",
      "603/603 [==============================] - 1s 942us/step - loss: 3.2030 - accuracy: 0.7755 - val_loss: 3.2669 - val_accuracy: 0.7685\n",
      "Epoch 80/100\n",
      "603/603 [==============================] - 1s 950us/step - loss: 3.1983 - accuracy: 0.7752 - val_loss: 3.2642 - val_accuracy: 0.7690\n",
      "Epoch 81/100\n",
      "603/603 [==============================] - 1s 964us/step - loss: 3.1953 - accuracy: 0.7749 - val_loss: 3.2611 - val_accuracy: 0.7692\n",
      "Epoch 82/100\n",
      "603/603 [==============================] - 1s 962us/step - loss: 3.1932 - accuracy: 0.7759 - val_loss: 3.2587 - val_accuracy: 0.7694\n",
      "Epoch 83/100\n",
      "603/603 [==============================] - 1s 930us/step - loss: 3.1894 - accuracy: 0.7756 - val_loss: 3.2556 - val_accuracy: 0.7695\n",
      "Epoch 84/100\n",
      "603/603 [==============================] - 1s 925us/step - loss: 3.1862 - accuracy: 0.7756 - val_loss: 3.2534 - val_accuracy: 0.7683\n",
      "Epoch 85/100\n",
      "603/603 [==============================] - 1s 945us/step - loss: 3.1829 - accuracy: 0.7759 - val_loss: 3.2567 - val_accuracy: 0.7694\n",
      "Epoch 86/100\n",
      "603/603 [==============================] - 1s 933us/step - loss: 3.1792 - accuracy: 0.7759 - val_loss: 3.2456 - val_accuracy: 0.7691\n",
      "Epoch 87/100\n",
      "603/603 [==============================] - 1s 939us/step - loss: 3.1759 - accuracy: 0.7771 - val_loss: 3.2450 - val_accuracy: 0.7696\n",
      "Epoch 88/100\n",
      "603/603 [==============================] - 1s 966us/step - loss: 3.1725 - accuracy: 0.7755 - val_loss: 3.2374 - val_accuracy: 0.7696\n",
      "Epoch 89/100\n",
      "603/603 [==============================] - 1s 954us/step - loss: 3.1684 - accuracy: 0.7760 - val_loss: 3.2357 - val_accuracy: 0.7701\n",
      "Epoch 90/100\n",
      "603/603 [==============================] - 1s 942us/step - loss: 3.1646 - accuracy: 0.7762 - val_loss: 3.2351 - val_accuracy: 0.7700\n",
      "Epoch 91/100\n",
      "603/603 [==============================] - 1s 944us/step - loss: 3.1603 - accuracy: 0.7772 - val_loss: 3.2260 - val_accuracy: 0.7704\n",
      "Epoch 92/100\n",
      "603/603 [==============================] - 1s 954us/step - loss: 3.1555 - accuracy: 0.7771 - val_loss: 3.2214 - val_accuracy: 0.7704\n",
      "Epoch 93/100\n",
      "603/603 [==============================] - 1s 959us/step - loss: 3.1496 - accuracy: 0.7776 - val_loss: 3.2157 - val_accuracy: 0.7706\n",
      "Epoch 94/100\n",
      "603/603 [==============================] - 1s 960us/step - loss: 3.1444 - accuracy: 0.7776 - val_loss: 3.2267 - val_accuracy: 0.7687\n",
      "Epoch 95/100\n",
      "603/603 [==============================] - 1s 972us/step - loss: 3.1359 - accuracy: 0.7778 - val_loss: 3.1980 - val_accuracy: 0.7706\n",
      "Epoch 96/100\n",
      "603/603 [==============================] - 1s 952us/step - loss: 3.1244 - accuracy: 0.7786 - val_loss: 3.1895 - val_accuracy: 0.7718\n",
      "Epoch 97/100\n",
      "603/603 [==============================] - 1s 968us/step - loss: 3.1078 - accuracy: 0.7793 - val_loss: 3.1623 - val_accuracy: 0.7726\n",
      "Epoch 98/100\n",
      "603/603 [==============================] - 1s 970us/step - loss: 3.0782 - accuracy: 0.7804 - val_loss: 3.1295 - val_accuracy: 0.7747\n",
      "Epoch 99/100\n",
      "603/603 [==============================] - 1s 940us/step - loss: 3.0640 - accuracy: 0.7812 - val_loss: 3.1274 - val_accuracy: 0.7750\n",
      "Epoch 100/100\n",
      "603/603 [==============================] - 1s 970us/step - loss: 3.0602 - accuracy: 0.7821 - val_loss: 3.1291 - val_accuracy: 0.7741\n"
     ]
    }
   ],
   "source": [
    "history = model.fit(train_features, train_labels, epochs=100, validation_data=(test_features, test_labels))"
   ]
  },
  {
   "cell_type": "code",
   "execution_count": null,
   "metadata": {},
   "outputs": [],
   "source": []
  }
 ],
 "metadata": {
  "kernelspec": {
   "display_name": "Python 3.10.1 64-bit",
   "language": "python",
   "name": "python3"
  },
  "language_info": {
   "codemirror_mode": {
    "name": "ipython",
    "version": 3
   },
   "file_extension": ".py",
   "mimetype": "text/x-python",
   "name": "python",
   "nbconvert_exporter": "python",
   "pygments_lexer": "ipython3",
   "version": "3.10.1"
  },
  "orig_nbformat": 4,
  "vscode": {
   "interpreter": {
    "hash": "3c47af3f6c5449ddf63aca57dfe63f59a5fc5da620cae2d41763154cf56a64a8"
   }
  }
 },
 "nbformat": 4,
 "nbformat_minor": 2
}
