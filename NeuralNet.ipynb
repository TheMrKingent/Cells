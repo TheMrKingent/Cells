{
 "cells": [
  {
   "cell_type": "code",
   "execution_count": 45,
   "metadata": {},
   "outputs": [],
   "source": [
    "import numpy as np\n",
    "\n",
    "import tensorflow as tf\n",
    "from tensorflow.keras.preprocessing.image import load_img\n",
    "from tensorflow.keras.utils import image_dataset_from_directory\n",
    "from sklearn.metrics import accuracy_score, confusion_matrix, classification_report\n",
    "\n",
    "path = 'C:/ARCHIVIO/2 - Magistrale/Semestre 3/Advanced statistical modelling fot Big Data/Progetto/Cells/data'\n",
    "gt_size = (32,32)"
   ]
  },
  {
   "cell_type": "code",
   "execution_count": 46,
   "metadata": {},
   "outputs": [
    {
     "name": "stdout",
     "output_type": "stream",
     "text": [
      "Found 27558 files belonging to 2 classes.\n",
      "Using 19291 files for training.\n",
      "Found 27558 files belonging to 2 classes.\n",
      "Using 8267 files for validation.\n"
     ]
    }
   ],
   "source": [
    "train = image_dataset_from_directory(\n",
    "    path, image_size=(gt_size), batch_size=32, validation_split=0.3, shuffle=True, seed=100, subset=\"training\")\n",
    "\n",
    "test = image_dataset_from_directory(\n",
    "    path, image_size=(gt_size), batch_size=32, validation_split=0.3, shuffle=True, seed=100, subset=\"validation\")"
   ]
  },
  {
   "cell_type": "code",
   "execution_count": 47,
   "metadata": {},
   "outputs": [
    {
     "name": "stdout",
     "output_type": "stream",
     "text": [
      "Model: \"sequential_9\"\n",
      "_________________________________________________________________\n",
      " Layer (type)                Output Shape              Param #   \n",
      "=================================================================\n",
      " conv2d_18 (Conv2D)          (None, 32, 32, 16)        448       \n",
      "                                                                 \n",
      " max_pooling2d_18 (MaxPoolin  (None, 16, 16, 16)       0         \n",
      " g2D)                                                            \n",
      "                                                                 \n",
      " conv2d_19 (Conv2D)          (None, 16, 16, 4)         580       \n",
      "                                                                 \n",
      " max_pooling2d_19 (MaxPoolin  (None, 8, 8, 4)          0         \n",
      " g2D)                                                            \n",
      "                                                                 \n",
      " flatten_9 (Flatten)         (None, 256)               0         \n",
      "                                                                 \n",
      " dense_18 (Dense)            (None, 8)                 2056      \n",
      "                                                                 \n",
      " dense_19 (Dense)            (None, 1)                 9         \n",
      "                                                                 \n",
      "=================================================================\n",
      "Total params: 3,093\n",
      "Trainable params: 3,093\n",
      "Non-trainable params: 0\n",
      "_________________________________________________________________\n"
     ]
    }
   ],
   "source": [
    "model = tf.keras.Sequential([\n",
    "        tf.keras.layers.Input(shape= (32, 32, 3)),\n",
    "        tf.keras.layers.Conv2D(16, (3,3), padding='same', activation='relu'),\n",
    "        tf.keras.layers.MaxPool2D(2),\n",
    "        tf.keras.layers.Conv2D(4, (3,3), padding='same', activation='relu'),\n",
    "        tf.keras.layers.MaxPool2D(2),\n",
    "        tf.keras.layers.Flatten(),\n",
    "        tf.keras.layers.Dense(8, activation='relu'),\n",
    "        tf.keras.layers.Dense(1, activation='sigmoid'),\n",
    "        ])\n",
    "\n",
    "model.summary()\n",
    "model.compile(optimizer=tf.keras.optimizers.Adam(),\n",
    "              loss=tf.keras.losses.BinaryCrossentropy(),\n",
    "              metrics=['accuracy'])"
   ]
  },
  {
   "cell_type": "code",
   "execution_count": 48,
   "metadata": {},
   "outputs": [
    {
     "name": "stdout",
     "output_type": "stream",
     "text": [
      "Epoch 1/50\n",
      "603/603 [==============================] - 7s 11ms/step - loss: 0.8418 - accuracy: 0.5496 - val_loss: 0.6899 - val_accuracy: 0.5470\n",
      "Epoch 2/50\n",
      "603/603 [==============================] - 7s 11ms/step - loss: 0.6780 - accuracy: 0.5794 - val_loss: 0.6818 - val_accuracy: 0.5927\n",
      "Epoch 3/50\n",
      "603/603 [==============================] - 7s 11ms/step - loss: 0.6696 - accuracy: 0.5932 - val_loss: 0.6846 - val_accuracy: 0.5945\n",
      "Epoch 4/50\n",
      "603/603 [==============================] - 7s 11ms/step - loss: 0.6633 - accuracy: 0.6019 - val_loss: 0.6667 - val_accuracy: 0.6088\n",
      "Epoch 5/50\n",
      "603/603 [==============================] - 7s 11ms/step - loss: 0.6564 - accuracy: 0.6115 - val_loss: 0.6845 - val_accuracy: 0.6060\n",
      "Epoch 6/50\n",
      "603/603 [==============================] - 7s 11ms/step - loss: 0.6516 - accuracy: 0.6209 - val_loss: 0.6803 - val_accuracy: 0.6111\n",
      "Epoch 7/50\n",
      "603/603 [==============================] - 7s 11ms/step - loss: 0.6434 - accuracy: 0.6290 - val_loss: 0.6595 - val_accuracy: 0.6214\n",
      "Epoch 8/50\n",
      "603/603 [==============================] - 7s 11ms/step - loss: 0.6341 - accuracy: 0.6392 - val_loss: 0.6338 - val_accuracy: 0.6620\n",
      "Epoch 9/50\n",
      "603/603 [==============================] - 7s 11ms/step - loss: 0.5787 - accuracy: 0.6894 - val_loss: 0.2817 - val_accuracy: 0.9036\n",
      "Epoch 10/50\n",
      "603/603 [==============================] - 7s 11ms/step - loss: 0.2176 - accuracy: 0.9280 - val_loss: 0.1877 - val_accuracy: 0.9431\n",
      "Epoch 11/50\n",
      "603/603 [==============================] - 7s 11ms/step - loss: 0.1793 - accuracy: 0.9419 - val_loss: 0.1805 - val_accuracy: 0.9415\n",
      "Epoch 12/50\n",
      "603/603 [==============================] - 7s 11ms/step - loss: 0.1675 - accuracy: 0.9453 - val_loss: 0.1755 - val_accuracy: 0.9435\n",
      "Epoch 13/50\n",
      "603/603 [==============================] - 7s 11ms/step - loss: 0.1597 - accuracy: 0.9480 - val_loss: 0.1822 - val_accuracy: 0.9388\n",
      "Epoch 14/50\n",
      "603/603 [==============================] - 7s 11ms/step - loss: 0.1551 - accuracy: 0.9500 - val_loss: 0.1664 - val_accuracy: 0.9485\n",
      "Epoch 15/50\n",
      "603/603 [==============================] - 7s 11ms/step - loss: 0.1504 - accuracy: 0.9514 - val_loss: 0.1669 - val_accuracy: 0.9470\n",
      "Epoch 16/50\n",
      "603/603 [==============================] - 7s 11ms/step - loss: 0.1435 - accuracy: 0.9528 - val_loss: 0.1663 - val_accuracy: 0.9473\n",
      "Epoch 17/50\n",
      "603/603 [==============================] - 7s 11ms/step - loss: 0.1427 - accuracy: 0.9531 - val_loss: 0.1644 - val_accuracy: 0.9491\n",
      "Epoch 18/50\n",
      "603/603 [==============================] - 7s 11ms/step - loss: 0.1370 - accuracy: 0.9544 - val_loss: 0.1666 - val_accuracy: 0.9481\n",
      "Epoch 19/50\n",
      "603/603 [==============================] - 7s 11ms/step - loss: 0.1324 - accuracy: 0.9564 - val_loss: 0.1709 - val_accuracy: 0.9464\n",
      "Epoch 20/50\n",
      "603/603 [==============================] - 7s 11ms/step - loss: 0.1300 - accuracy: 0.9572 - val_loss: 0.1653 - val_accuracy: 0.9467\n",
      "Epoch 21/50\n",
      "603/603 [==============================] - 7s 11ms/step - loss: 0.1289 - accuracy: 0.9571 - val_loss: 0.1687 - val_accuracy: 0.9479\n",
      "Epoch 22/50\n",
      "603/603 [==============================] - 7s 11ms/step - loss: 0.1263 - accuracy: 0.9588 - val_loss: 0.1861 - val_accuracy: 0.9421\n",
      "Epoch 23/50\n",
      "603/603 [==============================] - 7s 11ms/step - loss: 0.1236 - accuracy: 0.9585 - val_loss: 0.1808 - val_accuracy: 0.9491\n",
      "Epoch 24/50\n",
      "603/603 [==============================] - 7s 11ms/step - loss: 0.1211 - accuracy: 0.9602 - val_loss: 0.1746 - val_accuracy: 0.9477\n",
      "Epoch 25/50\n",
      "603/603 [==============================] - 7s 11ms/step - loss: 0.1205 - accuracy: 0.9609 - val_loss: 0.1702 - val_accuracy: 0.9517\n",
      "Epoch 26/50\n",
      "603/603 [==============================] - 7s 11ms/step - loss: 0.1166 - accuracy: 0.9613 - val_loss: 0.1805 - val_accuracy: 0.9459\n",
      "Epoch 27/50\n",
      "603/603 [==============================] - 7s 11ms/step - loss: 0.1161 - accuracy: 0.9617 - val_loss: 0.1785 - val_accuracy: 0.9480\n",
      "Epoch 28/50\n",
      "603/603 [==============================] - 7s 11ms/step - loss: 0.1123 - accuracy: 0.9623 - val_loss: 0.1774 - val_accuracy: 0.9480\n",
      "Epoch 29/50\n",
      "603/603 [==============================] - 7s 11ms/step - loss: 0.1124 - accuracy: 0.9617 - val_loss: 0.1801 - val_accuracy: 0.9456\n",
      "Epoch 30/50\n",
      "603/603 [==============================] - 7s 11ms/step - loss: 0.1103 - accuracy: 0.9629 - val_loss: 0.1847 - val_accuracy: 0.9473\n",
      "Epoch 31/50\n",
      "603/603 [==============================] - 7s 11ms/step - loss: 0.1099 - accuracy: 0.9624 - val_loss: 0.1924 - val_accuracy: 0.9462\n",
      "Epoch 32/50\n",
      "603/603 [==============================] - 7s 11ms/step - loss: 0.1077 - accuracy: 0.9642 - val_loss: 0.2274 - val_accuracy: 0.9400\n",
      "Epoch 33/50\n",
      "603/603 [==============================] - 7s 12ms/step - loss: 0.1065 - accuracy: 0.9652 - val_loss: 0.1953 - val_accuracy: 0.9486\n",
      "Epoch 34/50\n",
      "603/603 [==============================] - 7s 12ms/step - loss: 0.1057 - accuracy: 0.9641 - val_loss: 0.2010 - val_accuracy: 0.9450\n",
      "Epoch 35/50\n",
      "603/603 [==============================] - 7s 12ms/step - loss: 0.1044 - accuracy: 0.9639 - val_loss: 0.1934 - val_accuracy: 0.9477\n",
      "Epoch 36/50\n",
      "603/603 [==============================] - 7s 11ms/step - loss: 0.1024 - accuracy: 0.9658 - val_loss: 0.1910 - val_accuracy: 0.9470\n",
      "Epoch 37/50\n",
      "603/603 [==============================] - 7s 11ms/step - loss: 0.1005 - accuracy: 0.9660 - val_loss: 0.2080 - val_accuracy: 0.9439\n",
      "Epoch 38/50\n",
      "603/603 [==============================] - 7s 11ms/step - loss: 0.0998 - accuracy: 0.9652 - val_loss: 0.2131 - val_accuracy: 0.9435\n",
      "Epoch 39/50\n",
      "603/603 [==============================] - 7s 11ms/step - loss: 0.0982 - accuracy: 0.9667 - val_loss: 0.2187 - val_accuracy: 0.9421\n",
      "Epoch 40/50\n",
      "603/603 [==============================] - 7s 11ms/step - loss: 0.0969 - accuracy: 0.9665 - val_loss: 0.2145 - val_accuracy: 0.9421\n",
      "Epoch 41/50\n",
      "603/603 [==============================] - 7s 11ms/step - loss: 0.0995 - accuracy: 0.9657 - val_loss: 0.2166 - val_accuracy: 0.9430\n",
      "Epoch 42/50\n",
      "603/603 [==============================] - 7s 11ms/step - loss: 0.0971 - accuracy: 0.9672 - val_loss: 0.2222 - val_accuracy: 0.9435\n",
      "Epoch 43/50\n",
      "603/603 [==============================] - 7s 11ms/step - loss: 0.0946 - accuracy: 0.9675 - val_loss: 0.2239 - val_accuracy: 0.9416\n",
      "Epoch 44/50\n",
      "603/603 [==============================] - 7s 11ms/step - loss: 0.0936 - accuracy: 0.9677 - val_loss: 0.2420 - val_accuracy: 0.9392\n",
      "Epoch 45/50\n",
      "603/603 [==============================] - 7s 11ms/step - loss: 0.0946 - accuracy: 0.9672 - val_loss: 0.2254 - val_accuracy: 0.9438\n",
      "Epoch 46/50\n",
      "603/603 [==============================] - 7s 11ms/step - loss: 0.0928 - accuracy: 0.9686 - val_loss: 0.2346 - val_accuracy: 0.9394\n",
      "Epoch 47/50\n",
      "603/603 [==============================] - 7s 11ms/step - loss: 0.0918 - accuracy: 0.9685 - val_loss: 0.2357 - val_accuracy: 0.9413\n",
      "Epoch 48/50\n",
      "603/603 [==============================] - 7s 11ms/step - loss: 0.0926 - accuracy: 0.9690 - val_loss: 0.2853 - val_accuracy: 0.9333\n",
      "Epoch 49/50\n",
      "603/603 [==============================] - 7s 11ms/step - loss: 0.0906 - accuracy: 0.9685 - val_loss: 0.2647 - val_accuracy: 0.9369\n",
      "Epoch 50/50\n",
      "603/603 [==============================] - 7s 11ms/step - loss: 0.0912 - accuracy: 0.9694 - val_loss: 0.2510 - val_accuracy: 0.9373\n"
     ]
    }
   ],
   "source": [
    "history = model.fit(train, epochs=15, validation_data=test)"
   ]
  },
  {
   "cell_type": "code",
   "execution_count": 49,
   "metadata": {},
   "outputs": [
    {
     "data": {
      "text/plain": [
       "0.9373412132263184"
      ]
     },
     "execution_count": 49,
     "metadata": {},
     "output_type": "execute_result"
    }
   ],
   "source": [
    "val_acc = history.history['val_accuracy'][-1]\n",
    "val_acc"
   ]
  }
 ],
 "metadata": {
  "kernelspec": {
   "display_name": "Python 3.10.1 64-bit",
   "language": "python",
   "name": "python3"
  },
  "language_info": {
   "codemirror_mode": {
    "name": "ipython",
    "version": 3
   },
   "file_extension": ".py",
   "mimetype": "text/x-python",
   "name": "python",
   "nbconvert_exporter": "python",
   "pygments_lexer": "ipython3",
   "version": "3.10.1"
  },
  "orig_nbformat": 4,
  "vscode": {
   "interpreter": {
    "hash": "3c47af3f6c5449ddf63aca57dfe63f59a5fc5da620cae2d41763154cf56a64a8"
   }
  }
 },
 "nbformat": 4,
 "nbformat_minor": 2
}
