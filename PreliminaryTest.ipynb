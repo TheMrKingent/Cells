{
 "cells": [
  {
   "cell_type": "code",
   "execution_count": 44,
   "metadata": {},
   "outputs": [],
   "source": [
    "from PIL import Image, ImageEnhance, ImageOps\n",
    "import os\n",
    "import numpy as np\n",
    "import pandas as pd\n",
    "\n",
    "# Set wd to current file's location\n",
    "path = 'C:/ARCHIVIO/2 - Magistrale/Semestre 3/Advanced statistical modelling fot Big Data/Progetto/Cells'"
   ]
  },
  {
   "cell_type": "code",
   "execution_count": 45,
   "metadata": {},
   "outputs": [],
   "source": [
    "names0 = os.listdir(os.path.join(path, 'data', 'Uninfected'))\n",
    "names1 = os.listdir(os.path.join(path, 'data', 'Parasitized'))\n",
    "\n",
    "img0 = Image.open(os.path.join(path, 'data', 'Uninfected', names0[3]))\n",
    "img1 = Image.open(os.path.join(path, 'data', 'Parasitized', names1[1]))"
   ]
  },
  {
   "cell_type": "code",
   "execution_count": 46,
   "metadata": {},
   "outputs": [
    {
     "data": {
      "image/png": "[encoded data removed]",
      "text/plain": [
       "<PIL.PngImagePlugin.PngImageFile image mode=RGB size=100x112>"
      ]
     },
     "execution_count": 46,
     "metadata": {},
     "output_type": "execute_result"
    }
   ],
   "source": [
    "# Raw image\n",
    "img = img0\n",
    "img"
   ]
  },
  {
   "cell_type": "code",
   "execution_count": 47,
   "metadata": {},
   "outputs": [
    {
     "data": {
      "image/png": "[encoded data removed]",
      "text/plain": [
       "<PIL.Image.Image image mode=L size=100x112>"
      ]
     },
     "execution_count": 47,
     "metadata": {},
     "output_type": "execute_result"
    }
   ],
   "source": [
    "# Create B/W contrast enhanced\n",
    "opt = img.convert(mode='L')\n",
    "enhancer = ImageEnhance.Contrast(opt)\n",
    "opt = enhancer.enhance(10)\n",
    "opt"
   ]
  },
  {
   "cell_type": "code",
   "execution_count": 48,
   "metadata": {},
   "outputs": [
    {
     "data": {
      "image/png": "[encoded data removed]",
      "text/plain": [
       "<PIL.PngImagePlugin.PngImageFile image mode=RGB size=100x112>"
      ]
     },
     "execution_count": 48,
     "metadata": {},
     "output_type": "execute_result"
    }
   ],
   "source": [
    "# Create Mask\n",
    "mask = img\n",
    "pixels_mask = mask.load()\n",
    "for i in range(mask.size[0]):\n",
    "    for j in range(mask.size[1]):\n",
    "        if pixels_mask[i,j] == (0,0,0):\n",
    "            pixels_mask[i,j] = (255, 255, 255)\n",
    "mask"
   ]
  },
  {
   "cell_type": "code",
   "execution_count": 49,
   "metadata": {},
   "outputs": [
    {
     "data": {
      "image/png": "[encoded data removed]",
      "text/plain": [
       "<PIL.Image.Image image mode=L size=100x112>"
      ]
     },
     "execution_count": 49,
     "metadata": {},
     "output_type": "execute_result"
    }
   ],
   "source": [
    "# Join Mask over B/W\n",
    "pixels_opt = opt.load()\n",
    "for i in range(mask.size[0]):\n",
    "    for j in range(mask.size[1]):\n",
    "        if pixels_mask[i,j] == (255, 255, 255):\n",
    "            pixels_opt[i,j] = 255\n",
    "opt"
   ]
  },
  {
   "cell_type": "code",
   "execution_count": 50,
   "metadata": {},
   "outputs": [
    {
     "data": {
      "image/png": "[encoded data removed]",
      "text/plain": [
       "<PIL.Image.Image image mode=L size=100x112>"
      ]
     },
     "execution_count": 50,
     "metadata": {},
     "output_type": "execute_result"
    }
   ],
   "source": [
    "# Invert\n",
    "opt = ImageOps.invert(opt)\n",
    "opt"
   ]
  }
 ],
 "metadata": {
  "kernelspec": {
   "display_name": "Python 3.10.1 64-bit",
   "language": "python",
   "name": "python3"
  },
  "language_info": {
   "codemirror_mode": {
    "name": "ipython",
    "version": 3
   },
   "file_extension": ".py",
   "mimetype": "text/x-python",
   "name": "python",
   "nbconvert_exporter": "python",
   "pygments_lexer": "ipython3",
   "version": "3.10.1"
  },
  "orig_nbformat": 4,
  "vscode": {
   "interpreter": {
    "hash": "3c47af3f6c5449ddf63aca57dfe63f59a5fc5da620cae2d41763154cf56a64a8"
   }
  }
 },
 "nbformat": 4,
 "nbformat_minor": 2
}
